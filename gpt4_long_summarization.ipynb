{
 "cells": [
  {
   "cell_type": "code",
   "execution_count": null,
   "metadata": {},
   "outputs": [],
   "source": [
    "!pip install pdfquery\n",
    "!pip install openai\n",
    "!pip install pdfminer"
   ]
  },
  {
   "cell_type": "code",
   "execution_count": 2,
   "metadata": {},
   "outputs": [],
   "source": [
    "import pdfplumber\n",
    "import re\n",
    "\n",
    "def extract_text_excluding_tables(pdf_path):\n",
    "    text_without_tables = []\n",
    "    with pdfplumber.open(pdf_path) as pdf:\n",
    "        for page in pdf.pages:\n",
    "            full_text = page.extract_text()\n",
    "            if full_text is None:\n",
    "                continue  # Skip pages without text\n",
    "\n",
    "            text_lines = full_text.split('\\n')\n",
    "            tables = page.find_tables()  # Find tables on the page\n",
    "            \n",
    "            # Collect all bounding boxes of tables\n",
    "            table_bboxes = [table.bbox for table in tables]\n",
    "\n",
    "            # Process each text line and exclude those that are within table bounds or match table-like patterns\n",
    "            for line in text_lines:\n",
    "                exclude = False\n",
    "                words_in_line = page.extract_words(keep_blank_chars=True, extra_attrs=[\"doctop\", \"x0\", \"x1\"])\n",
    "\n",
    "                # Check if line looks like a table using pattern matching (high count of numbers, $, %, or specific formatting)\n",
    "                if re.search(r'(\\$\\s*\\d+|%\\s*\\d+|(\\d{1,3},)*\\d{1,3}(\\.\\d{2})?)', line):\n",
    "                    exclude = True\n",
    "\n",
    "                # Check if the line is inside any table's bounding box\n",
    "                if not exclude:\n",
    "                    for word in words_in_line:\n",
    "                        for bbox in table_bboxes:\n",
    "                            if bbox[0] <= word['x0'] <= bbox[2] and bbox[1] <= word['doctop'] <= bbox[3]:\n",
    "                                exclude = True\n",
    "                                break\n",
    "                        if exclude:\n",
    "                            break\n",
    "                \n",
    "                if not exclude:\n",
    "                    text_without_tables.append(line)\n",
    "\n",
    "    return text_without_tables\n",
    "\n",
    "\n",
    "\n"
   ]
  },
  {
   "cell_type": "code",
   "execution_count": 3,
   "metadata": {},
   "outputs": [],
   "source": [
    "# Extract text from a PDF file excluding tables\n",
    "pdf_path = \"local path to pdf file\"\n",
    "text_data = extract_text_excluding_tables(pdf_path)\n",
    "text = \"\"\n",
    "for line in text_data:\n",
    "    text += line\n",
    "    "
   ]
  },
  {
   "cell_type": "code",
   "execution_count": null,
   "metadata": {},
   "outputs": [],
   "source": [
    "print(text)"
   ]
  },
  {
   "cell_type": "code",
   "execution_count": 5,
   "metadata": {},
   "outputs": [],
   "source": [
    "from openai._client import OpenAI\n",
    "client = OpenAI(api_key = 'openai api key')"
   ]
  },
  {
   "cell_type": "code",
   "execution_count": 6,
   "metadata": {},
   "outputs": [],
   "source": [
    "# rewrite function with variable for both content varaibles\n",
    "def question_answering(transcription, question = 'please summarize the text'):\n",
    "    response = client.chat.completions.create(\n",
    "        model=\"gpt-4\",\n",
    "        temperature=0,\n",
    "        messages=[\n",
    "\n",
    "            {\n",
    "                \"role\": \"system\",\n",
    "                \"content\": question\n",
    "            },\n",
    "            {\n",
    "                \"role\": \"user\",\n",
    "                \"content\": transcription \n",
    "            }\n",
    "        ]\n",
    "    )\n",
    "    return response.choices[0].message.content"
   ]
  },
  {
   "cell_type": "code",
   "execution_count": null,
   "metadata": {},
   "outputs": [],
   "source": [
    "question_answering(text)"
   ]
  },
  {
   "cell_type": "code",
   "execution_count": null,
   "metadata": {},
   "outputs": [],
   "source": []
  }
 ],
 "metadata": {
  "kernelspec": {
   "display_name": "base",
   "language": "python",
   "name": "python3"
  },
  "language_info": {
   "codemirror_mode": {
    "name": "ipython",
    "version": 3
   },
   "file_extension": ".py",
   "mimetype": "text/x-python",
   "name": "python",
   "nbconvert_exporter": "python",
   "pygments_lexer": "ipython3",
   "version": "3.9.16"
  }
 },
 "nbformat": 4,
 "nbformat_minor": 2
}
